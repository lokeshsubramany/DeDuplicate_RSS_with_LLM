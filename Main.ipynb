{
 "cells": [
  {
   "cell_type": "code",
   "execution_count": 1,
   "metadata": {},
   "outputs": [],
   "source": [
    "from bs4 import BeautifulSoup\n",
    "import requests\n",
    "import pandas as pd\n",
    "import datetime\n",
    "\n",
    "headers = {\n",
    "        'User-Agent': 'Mozilla/5.0 (Windows NT 10.0; Win64; x64) AppleWebKit/537.36 (KHTML, like Gecko) Chrome/96.0.4664.110 Safari/537.36'\n",
    "    }\n",
    "\n",
    "def get_feed_article_titles_df(feedname,url):\n",
    "    \"\"\"\n",
    "    Get article titles and create a DataFrame.\n",
    "    \n",
    "    Args:\n",
    "        feedname (str): Name of the feed.\n",
    "        url (str): URL of the XML feed.\n",
    "    \n",
    "    Returns:\n",
    "        pandas.DataFrame: DataFrame containing article titles and feed name.\n",
    "    \"\"\"\n",
    "    try:\n",
    "        result = requests.get(url, headers=headers)\n",
    "\n",
    "        soup = BeautifulSoup(result.text, \"xml\")        \n",
    "        article_urls = [i.text for i in soup.findAll('link')]\n",
    "\n",
    "        #The verge has the links in the id tag, if the list is empty with the link tag, try the id tag\n",
    "        if len([item for item in article_urls if bool(item)])  == 0: \n",
    "            article_urls = [i.text for i in soup.findAll('id')]      \n",
    "        \n",
    "       \n",
    "        #Parse it as html to get the links correctly, other wise In some websites, <media:title> is also returned as a link\n",
    "        soup = BeautifulSoup(result.text, \"html.parser\")\n",
    "        article_titles = [i.text for i in soup.findAll('title')]      \n",
    "        \n",
    "        df = pd.DataFrame({'Article_title': article_titles, 'Article_URL': article_urls[-len(article_titles):], 'Feedname': feedname})\n",
    "        \n",
    "        #Remove homepage from url list and empty url rows\n",
    "        homepage = url.split('.com')[0] + '.com/'\n",
    "        df = df[(df['Article_URL'] != homepage) & (df['Article_URL'] != '') ]        \n",
    "        \n",
    "        # Drop duplicate URLs\n",
    "        df = df.drop_duplicates(subset=['Article_URL'], keep='first')\n",
    "\n",
    "        df['Fetch_Date'] = str(datetime.datetime.now())\n",
    "\n",
    "        return df\n",
    "\n",
    "    except Exception as e:\n",
    "        print(\"Error getting feed: \", e)\n",
    "        return pd.DataFrame()\n",
    "\n",
    "def get_article_text(url):\n",
    "    try:\n",
    "        result = requests.get(url[0][0], headers=headers)\n",
    "        soup = BeautifulSoup(result.text, \"html.parser\")   \n",
    "        return (soup.text)     \n",
    "    except Exception as e:\n",
    "            print(e)\n",
    "            return None\n",
    "    "
   ]
  },
  {
   "cell_type": "code",
   "execution_count": 2,
   "metadata": {},
   "outputs": [],
   "source": [
    "import sqlite3\n",
    "\n",
    "db_name = 'RssFeeds.db'\n",
    "\n",
    "def get_connection():\n",
    "    \"\"\"\n",
    "    Establish a connection to a SQLite database.\n",
    "    \n",
    "    Args:\n",
    "        db_name (str): Name of the SQLite database file.\n",
    "    \n",
    "    Returns:\n",
    "        sqlite3.Connection: Connection object to the SQLite database.\n",
    "    \"\"\"\n",
    "    try:\n",
    "        con = sqlite3.connect(db_name)\n",
    "        return con\n",
    "    except sqlite3.Error as e:\n",
    "        print(\"Error connecting to database: \", e)\n",
    "        return None\n",
    "\n",
    "def create_db():\n",
    "    \"\"\"\n",
    "    Create a new SQLite database and execute the given query to create tables.\n",
    "    \n",
    "    Args:\n",
    "        db_name (str): Name of the SQLite database file.\n",
    "        query (str): SQL query to create tables in the database.\n",
    "    \n",
    "    Returns:\n",
    "        sqlite3.Connection: Connection object to the SQLite database.\n",
    "    \"\"\"\n",
    "    \n",
    "    query = \"CREATE TABLE IF NOT EXISTS FEEDS( Feedname, Article_title UNIQUE, Article_URL, Duplicate, Fetch_Date, Summary)\"    \n",
    "\n",
    "    con = get_connection()\n",
    "    \n",
    "    if con is None:\n",
    "        return None\n",
    "    \n",
    "    try:\n",
    "        cur = con.cursor()\n",
    "        cur.execute(query)\n",
    "        con.commit()\n",
    "        #return con\n",
    "    except sqlite3.Error as e:\n",
    "        print(\"Error creating database: \", e)\n",
    "        con.close()\n",
    "        #return None\n",
    "    \n",
    "    print(\"DB created successfully\")\n",
    "\n",
    "def insert_to_db(data, query):\n",
    "    \"\"\"\n",
    "    Insert data into SQLite database using executemany.\n",
    "    \n",
    "    Args:\n",
    "        con (sqlite3.Connection): Connection object to the SQLite database.\n",
    "        data (list of tuples): Data to be inserted into the database.\n",
    "        query (str): SQL query for insertion.\n",
    "    \n",
    "    Returns:\n",
    "        None\n",
    "    \"\"\"\n",
    "    con = get_connection()\n",
    "\n",
    "    if not data:\n",
    "        print(\"No data to insert.\")\n",
    "        return\n",
    "    \n",
    "    try:\n",
    "        cur = con.cursor()\n",
    "        cur.executemany(query, data)\n",
    "        con.commit()\n",
    "    except sqlite3.Error as e:\n",
    "        print(\"Error inserting data into database: \", e)\n",
    "        con.rollback()\n",
    "\n",
    "def insert_to_FEEDS(data):\n",
    "    con = get_connection()\n",
    "\n",
    "    if len(data) == 0:\n",
    "        print(\"No data to insert.\")\n",
    "        return\n",
    "    \n",
    "    try:\n",
    "        cur = con.cursor()\n",
    "\n",
    "        query = \"INSERT OR REPLACE INTO FEEDS(Article_title,Article_URL,Feedname,Fetch_Date) VALUES (?, ?, ?, ?)\"\n",
    "\n",
    "        cur.executemany(query, data)\n",
    "        con.commit()\n",
    "        con.close()\n",
    "    except sqlite3.Error as e:\n",
    "        print(\"Error inserting data into database: \", e)\n",
    "        con.rollback()\n",
    "        con.close()\n",
    "\n",
    "def delete_from_db(tablename):\n",
    "    \"\"\"\n",
    "    Delete data from SQLite database.\n",
    "    \n",
    "    Args:\n",
    "        con (sqlite3.Connection): Connection object to the SQLite database.\n",
    "        query (str): SQL query for deletion.\n",
    "    \n",
    "    Returns:\n",
    "        None\n",
    "    \"\"\"\n",
    "    con = get_connection()\n",
    "    query = \"DROP TABLE IF EXISTS \" + tablename\n",
    "    try:\n",
    "        cur = con.cursor()\n",
    "        cur.execute(query)\n",
    "        con.commit()\n",
    "    except sqlite3.Error as e:\n",
    "        print(\"Error deleting data from database: \", e)\n",
    "        con.rollback()\n",
    "\n",
    "\n",
    "def query_db(query):\n",
    "    \"\"\"\n",
    "    Execute a SQL query and fetch results from SQLite database.\n",
    "    \n",
    "    Args:\n",
    "        con (sqlite3.Connection): Connection object to the SQLite database.\n",
    "        query (str): SQL query to be executed.\n",
    "    \n",
    "    Returns:\n",
    "        list of tuples: Result set fetched from the database.\n",
    "    \"\"\"\n",
    "    con = get_connection()\n",
    "\n",
    "    try:\n",
    "        cur = con.cursor()\n",
    "        cur.execute(query)\n",
    "        return cur.fetchall()\n",
    "    except sqlite3.Error as e:\n",
    "        print(\"Error executing query: \", e)\n",
    "        return []\n",
    "    "
   ]
  },
  {
   "cell_type": "code",
   "execution_count": 3,
   "metadata": {},
   "outputs": [],
   "source": [
    "feedlist={'Engadget':'https://www.engadget.com/rss.xml', \n",
    "          'The Verge':'https://www.theverge.com/rss/index.xml',\n",
    "          'Techcrunch':'https://techcrunch.com/feed/',\n",
    "          'Ars Technica':'https://feeds.arstechnica.com/arstechnica/index',\n",
    "          'Jalopnik':'https://jalopnik.com/rss'}  \n",
    "\n",
    "def refresh_feeds():\n",
    "    \"\"\"\n",
    "    Refresh feeds by retrieving and inserting data for each feed in the feedlist.\n",
    "\n",
    "    This function iterates over each feed in the feedlist, retrieves article data,\n",
    "    and inserts it into the corresponding database table.\n",
    "\n",
    "    Note:\n",
    "    - The feedlist dictionary should contain feed names as keys and their URLs as values.\n",
    "    - The `get_feed_articles_df` function is expected to return a DataFrame with article titles\n",
    "      and URLs for a given feed.\n",
    "    - The `insert_to_FEEDS` function is expected to insert the DataFrame values into the \n",
    "      corresponding database table.\n",
    "\n",
    "    Example usage:\n",
    "    refresh_feeds()\n",
    "\n",
    "    \"\"\"\n",
    "    for feed in feedlist:\n",
    "        print('Getting and inserting data for', feed)\n",
    "        df = get_feed_article_titles_df(feed, feedlist[feed])        \n",
    "        insert_to_FEEDS(df.values)\n",
    "    \n",
    "    df = pd.read_sql(\"Select * from FEEDS\", get_connection())\n",
    "    df.to_csv('feeds.csv', index=False)\n"
   ]
  },
  {
   "cell_type": "code",
   "execution_count": 4,
   "metadata": {},
   "outputs": [
    {
     "name": "stdout",
     "output_type": "stream",
     "text": [
      "DB created successfully\n"
     ]
    }
   ],
   "source": [
    "create_db()"
   ]
  },
  {
   "cell_type": "code",
   "execution_count": 5,
   "metadata": {},
   "outputs": [
    {
     "name": "stdout",
     "output_type": "stream",
     "text": [
      "Getting and inserting data for Engadget\n"
     ]
    },
    {
     "name": "stderr",
     "output_type": "stream",
     "text": [
      "c:\\Users\\lokes\\AppData\\Local\\Programs\\Python\\Python310\\lib\\html\\parser.py:170: XMLParsedAsHTMLWarning: It looks like you're parsing an XML document using an HTML parser. If this really is an HTML document (maybe it's XHTML?), you can ignore or filter this warning. If it's XML, you should know that using an XML parser will be more reliable. To parse this document as XML, make sure you have the lxml package installed, and pass the keyword argument `features=\"xml\"` into the BeautifulSoup constructor.\n",
      "  k = self.parse_starttag(i)\n"
     ]
    },
    {
     "name": "stdout",
     "output_type": "stream",
     "text": [
      "Getting and inserting data for The Verge\n",
      "Getting and inserting data for Techcrunch\n"
     ]
    },
    {
     "name": "stderr",
     "output_type": "stream",
     "text": [
      "c:\\Users\\lokes\\AppData\\Local\\Programs\\Python\\Python310\\lib\\html\\parser.py:170: XMLParsedAsHTMLWarning: It looks like you're parsing an XML document using an HTML parser. If this really is an HTML document (maybe it's XHTML?), you can ignore or filter this warning. If it's XML, you should know that using an XML parser will be more reliable. To parse this document as XML, make sure you have the lxml package installed, and pass the keyword argument `features=\"xml\"` into the BeautifulSoup constructor.\n",
      "  k = self.parse_starttag(i)\n",
      "c:\\Users\\lokes\\AppData\\Local\\Programs\\Python\\Python310\\lib\\html\\parser.py:170: XMLParsedAsHTMLWarning: It looks like you're parsing an XML document using an HTML parser. If this really is an HTML document (maybe it's XHTML?), you can ignore or filter this warning. If it's XML, you should know that using an XML parser will be more reliable. To parse this document as XML, make sure you have the lxml package installed, and pass the keyword argument `features=\"xml\"` into the BeautifulSoup constructor.\n",
      "  k = self.parse_starttag(i)\n"
     ]
    },
    {
     "name": "stdout",
     "output_type": "stream",
     "text": [
      "Getting and inserting data for Ars Technica\n",
      "Getting and inserting data for Jalopnik\n"
     ]
    },
    {
     "name": "stderr",
     "output_type": "stream",
     "text": [
      "c:\\Users\\lokes\\AppData\\Local\\Programs\\Python\\Python310\\lib\\html\\parser.py:170: XMLParsedAsHTMLWarning: It looks like you're parsing an XML document using an HTML parser. If this really is an HTML document (maybe it's XHTML?), you can ignore or filter this warning. If it's XML, you should know that using an XML parser will be more reliable. To parse this document as XML, make sure you have the lxml package installed, and pass the keyword argument `features=\"xml\"` into the BeautifulSoup constructor.\n",
      "  k = self.parse_starttag(i)\n",
      "c:\\Users\\lokes\\AppData\\Local\\Programs\\Python\\Python310\\lib\\html\\parser.py:170: XMLParsedAsHTMLWarning: It looks like you're parsing an XML document using an HTML parser. If this really is an HTML document (maybe it's XHTML?), you can ignore or filter this warning. If it's XML, you should know that using an XML parser will be more reliable. To parse this document as XML, make sure you have the lxml package installed, and pass the keyword argument `features=\"xml\"` into the BeautifulSoup constructor.\n",
      "  k = self.parse_starttag(i)\n"
     ]
    }
   ],
   "source": [
    "refresh_feeds()"
   ]
  },
  {
   "cell_type": "code",
   "execution_count": 6,
   "metadata": {},
   "outputs": [
    {
     "data": {
      "text/plain": [
       "\"The best smartphones to buy in 2024 EngadgetLoginReviewsBest in TechHands-OnView all ReviewsBuying GuidesBest Wireless EarbudsBest Robot VacuumsBest LaptopsBest Gaming LaptopsBest Mint AlternativesBest VPNBest Bluetooth TrackersView all Buying GuidesGamingPlayStationNintendoXboxPC GamingAll Gaming NewsGearAmazonAppleGoogleMicrosoftSamsungView all GearEntertainmentMoviesMusicTVYouTubeView all EntertainmentTomorrowScienceSpaceAIRoboticsTransportationView all TomorrowDealsNewsVideoPodcastsFacebookTwitterYouTubeSectionsReviewsBuying GuidesGamingGearEntertainmentTomorrowDealsNewsVideoPodcastsLoginAdvertisementiPad Pro M4 hands-onNintendo hints at 'Switch 2' unveilingGoogle Pixel 8a hands-onHelldivers 2 PSN account reversalBest college graduation giftsRead full articleWhy you can trust usEngadget has been testing and reviewing consumer tech since 2004. Our stories may include affiliate links; if you buy something through a link, we may earn a commission. Read more about how we evaluate products.\\nThe best smartphones to buy in 2024Our top phone choices aren’t just flagships.cherlynn low · sam rutherfordWed, May 8, 2024, 6:00 PM0 EngadgetYou might have an idea of which smartphone you want to buy next. But there are more options than ever before that are solid — plenty of companies are making stellar handsets nowadays, at similar prices, all with comparable feature sets. That said, the choice isn’t always cut-and-dry. If you know you want an iPhone, your decision-making process is a bit easier. If you’re an Android person, you have even more options to choose from and more questions to answer before you spend any money. At Engadget, we review phones regularly and have tested dozens over the years; so far for 2024, our top picks remain the same as they were last year, with Apple's iPhone 15 Pro and Google's Pixel 8 handsets sitting at the top of the list. Whether you’ve had your eye on them, one of Samsung's new Galaxy S24 phones or another device, we’re here to help you decide which is the best phone to buy this year.Editor’s note (5/8/24): Google has announced the Pixel 8a, its latest midrange smartphone. The 6.1-inch handset starts at $499 and, as expected, takes many of its cues from last year’s flagship Pixel 8 series. We’ll have a full review in the coming days and will update this guide accordingly. For now, you can check out our hands-on preview for more details on what to expect. Google says it’ll continue to sell the Pixel 7a, our current midrange\\xa0pick, at a reduced price, so it may continue to be worthwhile. Most should hold off until we put the new Pixel through its paces, though. Quick OverviewApple iPhone 15 ProBest iOS smartphone$26 at WalmartGoogle Pixel 8 and Pixel 8 ProBest Android smartphone$999 at GoogleGoogle Pixel 7aBest midrange Android phone$499 at GoogleApple iPhone SEBest midrange iPhone$429 at AppleGoogle Pixel 8 ProBest camera on a smartphone$999 at GoogleMore optionsSamsung Galaxy Z Fold 5Best foldable for multitasking$1,450 at Walmart$1,800 at Amazon$2,298 at StaplesSee more optionsMore optionsSamsung Galaxy Z Flip 5Best foldable for selfies$840 at Walmart$869 at Amazon$1,000 at Best BuySee more optionsSee 2 moreAndroid or iOS?When you're searching for the best smartphone, it becomes clear that each OS has its pros and cons. Apple’s tight-knit ecosystem makes it super easy to share data between iPhones, iPads and Macs or seamlessly hand-off phone calls or music from one device to another. At the same time, you’re effectively locked in, as services like Apple Messages aren’t available on other platforms.As for Android, there’s a much wider range of handsets from companies like Google, Samsung, Sony and more. However, Android phones don’t enjoy that same length of software support and often have lower trade-in values. In short, there’s no wrong answer. However, you will want to consider how your phone will fit in with the rest of your devices. So unless you’re really fed up with one OS and willing to learn another, it probably doesn’t make a lot of sense to switch from an iPhone to an Android phone (or vice versa) – especially if everyone else in your household is using the same platform.CamerasSince your cell phone often pulls double duty as your primary camera, figuring out what kind of photo tools you want is key. Nowadays, practically every mobile phone can take a great picture in bright light. But if you want a long optical zoom, you’ll probably have to upgrade to a more expensive device. Cherlynn Low / EngadgetMid-range phones often only have two rear cameras (a primary wide-angle lens and a secondary ultra-wide camera) and can sometimes struggle in low-light situations. Each phone maker also has various features that might be a better fit for your style, with Apple offering four different color presets on the latest iPhones, while Google’s Pixel 8 comes with neat tools like dedicated long exposure and Action Pan modes.Will you get mmWave 5G or Wi-Fi 7?The good news is that in 2024, most phones have at least Wi-Fi 6 or Wi-Fi 6e and support for some kind of 5G connectivity. However, if you want the fastest wireless speeds possible, it’s going to cost you a little extra. For example, on certain networks, mmWave 5G offers up to gigabit download speeds, less latency and better bandwidth. But mmWave 5G also requires more sophisticated (and pricier) modems, which means support for it is often missing on less expensive devices, even those like the unlocked version of the Pixel 8. On the bright side, mmWave 5G isn’t as widely available as other versions of 5G, so depending on where you live and what network you’re on, you may not be missing out on much right now if you buy a phone that doesn’t support it. It’s a similar situation for Wi-Fi 7, which is available on some high-end handsets like the Galaxy S24, but harder to find on cheaper devices. Wi-Fi 7 also requires you to have a compatible router, so unless you know you need it or have a specific use case in mind, the lack of support for mmWave 5G or Wi-Fi 7 shouldn’t be a dealbreaker when looking for a new phone.Other features to considerBecause not everyone agrees on what makes the best phone, you should think about any other specs that might be extra important for you. Mobile gamers will almost certainly appreciate the 120Hz refresh rates you get on phones like the Samsung Galaxy S23 or the Apple iPhone 15 Pro. Alternatively, if long battery life is important, you’ll probably want to go with a larger iPhone or an Android phone with a battery that’s between 4,000 and 5,000 mAh in size. Meanwhile, if you find yourself juggling a lot of devices, it can be really nice to have a phone that supports reverse wireless charging, which on Samsung phones even lets you recharge the company’s Galaxy Watches.Photo by Cherlynn Low / EngadgetApple iPhone 15 ProBest iOS smartphoneScreen size: 6.7-inch | Storage capacity: Up to 1TB | SIM support: Dual eSim | Battery Life: About two days Read our full review of the iPhone 15 Pro Max The changes to the iPhone 15 Pro and Pro Max may seem small when considered on their own, but together they add up to more than the sum of their parts. For the iPhone 15 Pro Max, in particular, the smaller, lighter titanium build means it might be within the realm of consideration for many shoppers for the first time. It’s no longer sharp and hefty like a weapon, but still has one of the longest-lasting batteries on the market. The larger handset also gets a new 5x telephoto camera that helps it catch up to flagships on the Android side, which have had zoom lenses for years. Though Apple doesn’t outclass the competition on photography, it’s certainly closed the gap and you’ll find great cameras on both the Pro and Pro Max. They also have updated portrait effects and editing tools, so photography is improved whether you’re shooting faraway subjects or something just in front of you. Both iPhone 15 Pro models have the new Action Button and USB-C charging, the latter of which will be more meaningful in a couple of years when the world presumably ditches Lightning at last. The Action Button, meanwhile, takes the often unused mute slider and gives you the option of mapping a frequently used shortcut to it, so you can quickly launch the camera, flashlight, voice recorder or magnifier. Having this many ways to configure the Action Button means it’s far more useful to more people than a simple toggle for silencing your phone. This year’s A17 Pro chip not only brings excellent performance, but its six-core GPU also enables console-level gaming and hardware-accelerated ray tracing for realistic lighting effects. Later this year, you can dig into titles like Resident Evil Village and, in early 2024, Assassin’s Creed Mirage on the iPhone 15 Pro and Pro Max. You’ll also get a second-generation ultra wideband chip for improved precision object location, and reverse USB charging so you can power up your accessories in a pinch. When you consider all these features as a whole, the iPhone 15 Pro and Pro Max are not just a solid upgrade from their predecessors, they’re also among the best phones around. – Cherlynn Low, Deputy Editor ProsSmaller and lighter than previous Pro MaxesUseful zoom camerasUSB-C is the way of the futureLong-lasting batteryReverse charging via USB-CConsAction button is hard to reach on the larger handsetBoring colors$26 at WalmartPhoto by Sam Rutherford / EngadgetGoogle Pixel 8 and Pixel 8 ProBest Android smartphone(Pixel 8) Screen size: 6.2-inch | Storage capacity: Up to 256GB | SIM support: 1x nano SIM, 1x eSim | Battery Life: 20+ hours Read our full review of the Google Pixel 8 and Pixel 8 Pro The last two generations of Pixels offered a ton of value, combining smart features with solid hardware. But on the Pixel 8 and Pixel 8 Pro, Google has done some serious leveling up thanks to its new Tensor G3 chip, brighter displays, upgraded cameras and a range of useful AI tools. Peak brightness now sits at 2,000 or 2,400 nits, depending on the model, while still producing realistic colors. And that’s while actually seeing battery life increase between 20 to 25 percent compared to last year’s devices. The Pixel 8’s cameras also take in more light, so your photos and videos look even better. And with the arrival of features like Best Take and Magic Editor, there are even more ways to create the perfect shot. The Google Assistant is also more capable now due to newfound abilities like more accurate voice typing, the ability to summarize or read new articles aloud and proofreading your texts. But, perhaps most importantly, with Google committing to seven years of software support – longer than pretty much any other Android phone on the market – the Pixel 8 and Pixel 8 Pro are in it for the long haul. – Sam Rutherford, Senior Reporter ProsNew Actua displayGenuinely useful AI featuresTensor G3 chipSeven years of software supportCons$100 more than previous model$999 at GooglePhoto by Sam Rutherford / EngadgetGoogle Pixel 7aBest midrange Android phoneScreen size: 6.1-inch | Storage capacity: Up to 128GB | SIM support: 1x nano SIM, 1x eSim | Battery Life: Close to 18 hours Read our full review of the Google Pixel 7a The $500 Pixel 7a delivers everything we look for in a great affordable phone. New features include a faster Tensor G2 chip, a smoother 90Hz display and for the first time on one of Google’s A-series phones: support for wireless charging. And with a refreshed design with IP67 water resistance, it looks and feels like the standard Pixel 7 but for $100 less. You also get great support thanks to five years of security updates and at least three OS upgrades. The phone’s only shortcomings are rather small and include a lack of a dedicated zoom lens and no support for mmWave 5G (unless you purchase a slightly more expensive $550 model from Verizon). – S.R. ProsNew 90Hz OLED screenLong battery lifeNow has wireless chargingExcellent camerasSame great Pixel-specific softwareConsWireless charging is kind of slowNo dedicated zoom lensNo XL modelSpeakers sound a bit shallow$499 at GooglePhoto by Cherlynn Low / EngadgetApple iPhone SEBest midrange iPhoneScreen size: 4.7-inch | Storage capacity: Up to 256GB | SIM support: 1x nano SIM, Dual eSim | Battery Life: 12 hours Read our full review of the Apple iPhone SE With an A15 Bionic chip and iOS 15, the latest Apple iPhone SE is possibly the most powerful phone you can find for under $450. Sure, it has a dated design, but some folks might actually appreciate the retro look. The best thing about the iPhone SE is its home button: It’s the only new iPhone to have Touch ID. And though it only has a single rear camera, the SE still takes solid pictures. If you can get over the small, low-res screen, the iPhone SE will serve you well. It’s also really the only sub-$500 option for iOS diehards. If you’re open to considering Android and want to spend less than $400, consider something from Samsung’s Galaxy A-series or the OnePlus Nord N20. Those looking to spend even less can check out the Moto G Power – just be prepared to compromise on features like display and cameras at these lower price points. – C.L. ProsFamiliar home button and TouchIDSpeedy A15 Bionic chip for the priceCamera takes surprisingly good photosConsBase model's 64GB of storage is measlyJust one rear cameraSmall and lackluster screen$429 at ApplePhoto by Sam Rutherford / EngadgetGoogle Pixel 8 ProBest camera on a smartphoneScreen size: 6.7-inch | Storage capacity: Up to 1TB | SIM support: 1x nano SIM, 1x eSim | Battery Life: 21 hours Read our full review of the Google Pixel 8 and Pixel 8 Pro Thanks to a new suite of sensors including a 50-MP main cam, a 48-MP ultra-wide and a 48-MP telephoto camera with a 5x zoom, the Pixel 8 Pro shoots sharper and more detailed pics than ever. Tack on Google’s excellent HDR+ processing, its class-leading Night Sight mode and features like Action Pan, and you get a smartphone that can capture high-quality images in practically any situation. But what pushes the Pixel 8 Pro to the top is its latest batch of AI-powered editing tools. Best Take allows you to pick the best expression for each person’s face from a selection of images. Meanwhile, Magic Editor makes it super simple to remove distracting subjects, recompose your shot, or move things around, with AI helping to fill in any holes. For video, Audio Magic Eraser can drastically cut down on ambient noise from wind, traffic and other sources. Between upgraded hardware and sophisticated machine-learning tools, the Pixel 8 Pro is the complete package for capturing photos and videos. – S.R. ProsNew Super Actua displayGenuinely useful AI featuresTensor G3 chipSeven years of software supportNew temperature sensorMuch improved battery lifeConfigs now go up to 1TB of storageCons$100 more than previous modelFace Unlock setup can be a little tricky$999 at GooglePhoto by Sam Rutherford / EngadgetSamsung Galaxy Z Fold 5Best foldable for multitaskingScreen size: 7.6-inch (main) | Storage capacity: Up to 256GB | SIM support: 1x nano SIM, 1x eSim | Battery Life: Almost 20 hours Read our full review of the Samsung Galaxy Z Fold 5 While Samsung didn’t make a ton of changes to the Z Fold 5, it’s still the best big flexible phone on the market. As before, you get native stylus support, IPX8 water resistance (good for dunks of up to five feet for 30 minutes) and of course, a stunning 7.6-inch main display. New for 2023 is a faster Snapdragon 8 Gen 2 chip, improved brightness, expanded multitasking capabilities and most importantly, a completely redesigned hinge. Not only does Samsung’s new Flex hinge eliminate the gap between the two sides of the phone when it's closed (to help keep dust out), it also makes the phone thinner (down to 13.4mm from 15.8mm), which is a nice change for what was already a somewhat bulky device. The biggest issue remains its price: Samsung’s latest flagship foldable remains exorbitantly expensive at $1,800. — S.R. ProsNew Flex HingeNo more gapImproved performanceAdditional multitasking gesturesGreat battery lifeBrighter main screenConsVery expensiveS Pen comes separatelyUnchanged camerasStill rather bulky$1,450 at WalmartExplore More Buying Options$1,800 at Amazon$2,298 at StaplesPhoto by Cherlynn Low / EngadgetSamsung Galaxy Z Flip 5Best foldable for selfiesScreen size: 6.7-inch (main) | Storage capacity: Up to 512GB | SIM support: 1x nano SIM, 1x eSim Read our full review of the Samsung Galaxy Z Flip 5 If you’re shopping for a foldable in the US, you actually have choices now. The clear winner of that race in the flip-phone category, though, continues to be Samsung. While Motorola’s Razr+ gave the Galaxy Z Flip series some serious competition, it still wasn’t good enough. With this year’s Z Flip 5, Samsung brought a larger external display that’s more functional than previous generations. You’ll have to jump through a few hoops to enable full-sized apps and maximize the experience on that screen, but once you do, the Flip 5 realizes its potential. This year, Samsung also updated the hinges on its Z series, using a new dual-rail structure that’s supposed to better diffuse impact than before. It also creates a water drop-shaped crease that the company says results in less stress on the screen, which should improve overall durability. Even if your Flip does break, Samsung is better positioned to handle repairs than any other foldable maker in the US, since it’s the most established player here. The Flip 5 also has superior cameras compared to the Moto Razr+, delivering richer, more saturated colors in daylight. Of course, don’t expect flagship-level pictures from any flip-style foldable. The Flip 5 pales in comparison to the likes of the latest iPhone or Pixel in low light, but for the most part, its pictures will be good enough for Instagram. Plus, you’ll have a lot more fun snapping selfies or group photos with a foldable, since it can act as its own tripod when flexed and you can see yourself in the external display. And don’t forget Samsung’s handy open-palm gesture that triggers a camera timer, which will make capturing stills or videos much easier from a distance. When it’s time to kick back on your couch, the Flip 5 also delivers. It has the fastest processor on a foldable and a vibrant internal screen that refreshes at up to 120Hz for smooth scrolling and animations. It doesn’t have the longest battery life, especially when compared to non-folding flagships like the Galaxy S23. But if you don’t mind charging your phone whenever you’re near an outlet, and a flipping foldable is on your shopping list, the Galaxy Z Flip 5 is the best foldable with this form factor. — C.L. ProsUseful external screenCompact when foldedNew hinge enables gapless designConsA lot of settings to dig through to maximize useShort battery life compared to typical Android phones$840 at WalmartExplore More Buying Options$869 at Amazon$1,000 at Best BuyOther smartphones we've testedSamsung Galaxy S24 UltraFor its latest super-premium phone, Samsung gave the S24 Ultra a more durable titanium frame, faster performance thanks to a Snapdragon 8 Gen 3 chip and a much longer battery life. The company also tweaked its longest telephoto lens with a 5x optical zoom so it's more usable in a wider range of situations. But the biggest upgrade is a new full suite of AI tools, which includes the ability to proofread texts, edit images and transcribe recordings. And when you tack on the best display available on a phone today and a built-in stylus, you have a very compelling flagship handset. Unfortunately, starting at $1,300, the S24 Ultra is a bit too expensive to recommend to anyone without deep pockets.OnePlus 12While the OnePlus 12 wasn’t able to unseat the latest Pixel, it’s worth mentioning because it offers powerful specs for the money. It features a speedy Snapdragon 8 Gen 3 chip, a big and bright 6.8-inch, 120Hz OLED screen and the best battery life we’ve seen on any phone to date. OnePlus also brought back support for wireless charging for the first time in several generations, along with a good (but not great) IP65 rating for dust and water resistance. And even though its huge camera module looks a bit ungainly, its photos are surprisingly sharp. But the best thing is that, with a starting price of $800, the OnePlus 12 costs $200 less than a Pixel 8 Pro or a similarly specced S24+.FAQsHow do I know which smartphone is the best for me?While choosing the best smartphone can be challenging, it mostly comes down to how you plan on using the device. All of the best phones available now get the basics right — you’ll be able to make calls, text and access the internet without many hiccups. If your smartphone is your most used gadget, you may want to consider paying for a device on the higher end of the price spectrum. That will get you better overall performance, higher-quality cameras and a phone that will last for many years. If you don’t use your phone for everything, you may be able to compromise on performance and extra perks and spend less on a still-capable handset.How much is a smartphone?Smartphones range in price from $300 to over $1,500. The best budget phones available now will usually compromise on overall performance, design, camera prowess and extra features to keep costs down. On the flip side, the most expensive phones will have powerful processors, triple-camera arrays and even flip or fold designs. Most people will find a phone that fits their needs somewhere in the middle of that wide price range — we’ve found that most of the best smartphones available right now cost between $500 and $1,000.What can you do on a smartphone?Smartphones are essentially small, portable computers that let you do things like check email, browse social media, follow map directions, make contactless payments and more. This is all on top of the basics like making phone calls and texting, which we’ve come to expect in all modern cell phones. Smartphones have also mostly replaced compact cameras thanks to their high-quality, built-in shooters, and the fact that most smartphones today as just as portable, if not more so, as compact cameras.How long do smartphones last?Smartphones can last years and people are holding on to their phones longer now than ever before. Software updates and battery life are two of the biggest factors that can affect phone longevity. Apple promises five years worth of software updates for its latest iPhones, and Google promises the same for its Pixel phones. Samsung phones will get four years worth of Android updates from the time they launch. As for charging speeds and battery life, your phone can deteriorate over time as you use and recharge your phone on a regular basis. Advertisement  Advertisement  Advertisement  Advertisement  Advertisement  Advertisement  Advertisement \""
      ]
     },
     "execution_count": 6,
     "metadata": {},
     "output_type": "execute_result"
    }
   ],
   "source": [
    "url = query_db(\"Select Article_URL from FEEDS where Feedname == 'Engadget' limit 1\")\n",
    "get_article_text(url)"
   ]
  },
  {
   "cell_type": "code",
   "execution_count": 9,
   "metadata": {},
   "outputs": [
    {
     "data": {
      "text/plain": [
       "(153, 6)"
      ]
     },
     "execution_count": 9,
     "metadata": {},
     "output_type": "execute_result"
    }
   ],
   "source": [
    "df = pd.read_sql(\"Select * from FEEDS\", get_connection())\n",
    "df.head()\n",
    "df.shape"
   ]
  }
 ],
 "metadata": {
  "kernelspec": {
   "display_name": "Python 3",
   "language": "python",
   "name": "python3"
  },
  "language_info": {
   "codemirror_mode": {
    "name": "ipython",
    "version": 3
   },
   "file_extension": ".py",
   "mimetype": "text/x-python",
   "name": "python",
   "nbconvert_exporter": "python",
   "pygments_lexer": "ipython3",
   "version": "3.10.5"
  }
 },
 "nbformat": 4,
 "nbformat_minor": 2
}
